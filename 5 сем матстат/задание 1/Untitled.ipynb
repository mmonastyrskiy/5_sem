{
 "cells": [
  {
   "cell_type": "code",
   "execution_count": 5,
   "id": "886144e1-efe6-4aa7-8a38-59d3e3a20214",
   "metadata": {
    "tags": []
   },
   "outputs": [],
   "source": [
    "import pandas as pd\n",
    "import numpy as np\n",
    "import scipy"
   ]
  },
  {
   "cell_type": "code",
   "execution_count": 2,
   "id": "068b6b14-a139-4aec-91e4-2dd5a4ae0cf3",
   "metadata": {
    "tags": []
   },
   "outputs": [],
   "source": [
    "from matplotlib import pyplot as plt"
   ]
  },
  {
   "cell_type": "code",
   "execution_count": null,
   "id": "92f24d11-fd2e-4161-bffd-ca74e58fa8ed",
   "metadata": {},
   "outputs": [],
   "source": [
    "np.random.seed(1000)\n",
    "X = np.random.normal(5,2,100)\n",
    "plt.hist(X,)"
   ]
  }
 ],
 "metadata": {
  "kernelspec": {
   "display_name": "Python 3 (ipykernel)",
   "language": "python",
   "name": "python3"
  },
  "language_info": {
   "codemirror_mode": {
    "name": "ipython",
    "version": 3
   },
   "file_extension": ".py",
   "mimetype": "text/x-python",
   "name": "python",
   "nbconvert_exporter": "python",
   "pygments_lexer": "ipython3",
   "version": "3.10.10"
  }
 },
 "nbformat": 4,
 "nbformat_minor": 5
}
