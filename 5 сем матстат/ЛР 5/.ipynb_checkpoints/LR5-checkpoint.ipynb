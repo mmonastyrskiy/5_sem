{
 "cells": [
  {
   "cell_type": "code",
   "execution_count": 9,
   "id": "a3f83485-2a6b-4253-880e-c98ea3ebdff3",
   "metadata": {},
   "outputs": [
    {
     "name": "stdout",
     "output_type": "stream",
     "text": [
      "Defaulting to user installation because normal site-packages is not writeable\n",
      "Requirement already satisfied: ucimlrepo in c:\\users\\максим\\appdata\\roaming\\python\\python39\\site-packages (0.0.3)\n"
     ]
    },
    {
     "name": "stderr",
     "output_type": "stream",
     "text": [
      "WARNING: You are using pip version 20.2.3; however, version 23.3.2 is available.\n",
      "You should consider upgrading via the 'c:\\program files\\python39\\python.exe -m pip install --upgrade pip' command.\n"
     ]
    },
    {
     "name": "stdout",
     "output_type": "stream",
     "text": [
      "Defaulting to user installation because normal site-packages is not writeable\n",
      "Collecting scipy\n",
      "  Downloading scipy-1.11.4-cp39-cp39-win_amd64.whl (44.3 MB)\n",
      "Requirement already satisfied: numpy<1.28.0,>=1.21.6 in c:\\users\\максим\\appdata\\roaming\\python\\python39\\site-packages (from scipy) (1.23.3)\n",
      "Installing collected packages: scipy\n",
      "Successfully installed scipy-1.11.4\n"
     ]
    },
    {
     "name": "stderr",
     "output_type": "stream",
     "text": [
      "WARNING: You are using pip version 20.2.3; however, version 23.3.2 is available.\n",
      "You should consider upgrading via the 'c:\\program files\\python39\\python.exe -m pip install --upgrade pip' command.\n"
     ]
    }
   ],
   "source": [
    "!pip install ucimlrepo\n",
    "!pip install scipy"
   ]
  },
  {
   "cell_type": "code",
   "execution_count": 4,
   "id": "80229ca1-b1e2-4756-86fc-d72b4a0a9093",
   "metadata": {},
   "outputs": [],
   "source": [
    "from ucimlrepo import fetch_ucirepo\n",
    "heart_disease = fetch_ucirepo(id=45)"
   ]
  },
  {
   "cell_type": "code",
   "execution_count": 7,
   "id": "d4795ae9-7f71-4fde-adb2-fe6d5261a0cb",
   "metadata": {},
   "outputs": [
    {
     "name": "stdout",
     "output_type": "stream",
     "text": [
      "        name     role         type demographic  \\\n",
      "0        age  Feature      Integer         Age   \n",
      "1        sex  Feature  Categorical         Sex   \n",
      "2         cp  Feature  Categorical        None   \n",
      "3   trestbps  Feature      Integer        None   \n",
      "4       chol  Feature      Integer        None   \n",
      "5        fbs  Feature  Categorical        None   \n",
      "6    restecg  Feature  Categorical        None   \n",
      "7    thalach  Feature      Integer        None   \n",
      "8      exang  Feature  Categorical        None   \n",
      "9    oldpeak  Feature      Integer        None   \n",
      "10     slope  Feature  Categorical        None   \n",
      "11        ca  Feature      Integer        None   \n",
      "12      thal  Feature  Categorical        None   \n",
      "13       num   Target      Integer        None   \n",
      "\n",
      "                                          description  units missing_values  \n",
      "0                                                None  years             no  \n",
      "1                                                None   None             no  \n",
      "2                                                None   None             no  \n",
      "3   resting blood pressure (on admission to the ho...  mm Hg             no  \n",
      "4                                   serum cholestoral  mg/dl             no  \n",
      "5                     fasting blood sugar > 120 mg/dl   None             no  \n",
      "6                                                None   None             no  \n",
      "7                         maximum heart rate achieved   None             no  \n",
      "8                             exercise induced angina   None             no  \n",
      "9   ST depression induced by exercise relative to ...   None             no  \n",
      "10                                               None   None             no  \n",
      "11  number of major vessels (0-3) colored by flour...   None            yes  \n",
      "12                                               None   None            yes  \n",
      "13                         diagnosis of heart disease   None             no  \n"
     ]
    }
   ],
   "source": [
    "X = heart_disease.data.features\n",
    "y = heart_disease.data.targets\n",
    "\n",
    "print(heart_disease.variables)"
   ]
  },
  {
   "cell_type": "code",
   "execution_count": 10,
   "id": "7d769215-af44-4fac-93c1-eedd7b30e692",
   "metadata": {},
   "outputs": [],
   "source": [
    "import pandas as pd\n",
    "import numpy as np\n",
    "import scipy.stats as st"
   ]
  },
  {
   "cell_type": "code",
   "execution_count": 11,
   "id": "a863db7f-a0f7-475f-9a63-539b5ecc7407",
   "metadata": {},
   "outputs": [
    {
     "data": {
      "text/plain": [
       "(303, 13)"
      ]
     },
     "execution_count": 11,
     "metadata": {},
     "output_type": "execute_result"
    }
   ],
   "source": [
    "X.shape"
   ]
  },
  {
   "cell_type": "code",
   "execution_count": 12,
   "id": "0e6440a0-396a-400c-86be-56b23966dbe0",
   "metadata": {},
   "outputs": [
    {
     "data": {
      "text/html": [
       "<div>\n",
       "<style scoped>\n",
       "    .dataframe tbody tr th:only-of-type {\n",
       "        vertical-align: middle;\n",
       "    }\n",
       "\n",
       "    .dataframe tbody tr th {\n",
       "        vertical-align: top;\n",
       "    }\n",
       "\n",
       "    .dataframe thead th {\n",
       "        text-align: right;\n",
       "    }\n",
       "</style>\n",
       "<table border=\"1\" class=\"dataframe\">\n",
       "  <thead>\n",
       "    <tr style=\"text-align: right;\">\n",
       "      <th>cp</th>\n",
       "      <th>1</th>\n",
       "      <th>2</th>\n",
       "      <th>3</th>\n",
       "      <th>4</th>\n",
       "    </tr>\n",
       "    <tr>\n",
       "      <th>sex</th>\n",
       "      <th></th>\n",
       "      <th></th>\n",
       "      <th></th>\n",
       "      <th></th>\n",
       "    </tr>\n",
       "  </thead>\n",
       "  <tbody>\n",
       "    <tr>\n",
       "      <th>0</th>\n",
       "      <td>4</td>\n",
       "      <td>18</td>\n",
       "      <td>35</td>\n",
       "      <td>40</td>\n",
       "    </tr>\n",
       "    <tr>\n",
       "      <th>1</th>\n",
       "      <td>19</td>\n",
       "      <td>32</td>\n",
       "      <td>51</td>\n",
       "      <td>104</td>\n",
       "    </tr>\n",
       "  </tbody>\n",
       "</table>\n",
       "</div>"
      ],
      "text/plain": [
       "cp    1   2   3    4\n",
       "sex                 \n",
       "0     4  18  35   40\n",
       "1    19  32  51  104"
      ]
     },
     "execution_count": 12,
     "metadata": {},
     "output_type": "execute_result"
    }
   ],
   "source": [
    "pd.crosstab(X.sex, X.cp)"
   ]
  },
  {
   "cell_type": "code",
   "execution_count": 13,
   "id": "2595944b-cbd4-4af8-9117-804b7cad008c",
   "metadata": {},
   "outputs": [
    {
     "data": {
      "text/plain": [
       "Chi2ContingencyResult(statistic=6.79145867175301, pvalue=0.07885024424877551, dof=3, expected_freq=array([[ 7.3630363 , 16.00660066, 27.53135314, 46.0990099 ],\n",
       "       [15.6369637 , 33.99339934, 58.46864686, 97.9009901 ]]))"
      ]
     },
     "execution_count": 13,
     "metadata": {},
     "output_type": "execute_result"
    }
   ],
   "source": [
    "st.chi2_contingency(pd.crosstab(X.sex, X.cp))"
   ]
  },
  {
   "cell_type": "code",
   "execution_count": 17,
   "id": "80649fa3-b764-4faa-9fec-e3dc32940510",
   "metadata": {},
   "outputs": [],
   "source": [
    "fact_frequency = pd.crosstab(X.sex, X.cp).values"
   ]
  },
  {
   "cell_type": "code",
   "execution_count": 54,
   "id": "92b75405-bee0-4ac1-9645-0d6de7839a84",
   "metadata": {},
   "outputs": [],
   "source": [
    "expected_freqency = (fact_frequency.sum(axis = 0).reshape(-1,1).\\\n",
    "dot(fact_frequency.sum(axis = 1).reshape(1,-1))/fact_frequency.sum()).T"
   ]
  },
  {
   "cell_type": "code",
   "execution_count": 55,
   "id": "32503181-f393-4f80-b8b3-42b90d7968a7",
   "metadata": {},
   "outputs": [
    {
     "data": {
      "text/plain": [
       "array([[ 7.3630363 , 16.00660066, 27.53135314, 46.0990099 ],\n",
       "       [15.6369637 , 33.99339934, 58.46864686, 97.9009901 ]])"
      ]
     },
     "execution_count": 55,
     "metadata": {},
     "output_type": "execute_result"
    }
   ],
   "source": [
    "expected_freqency"
   ]
  },
  {
   "cell_type": "code",
   "execution_count": 22,
   "id": "1122a3d4-d23f-475a-b95b-f7b709d8501d",
   "metadata": {},
   "outputs": [
    {
     "data": {
      "text/html": [
       "<div>\n",
       "<style scoped>\n",
       "    .dataframe tbody tr th:only-of-type {\n",
       "        vertical-align: middle;\n",
       "    }\n",
       "\n",
       "    .dataframe tbody tr th {\n",
       "        vertical-align: top;\n",
       "    }\n",
       "\n",
       "    .dataframe thead th {\n",
       "        text-align: right;\n",
       "    }\n",
       "</style>\n",
       "<table border=\"1\" class=\"dataframe\">\n",
       "  <thead>\n",
       "    <tr style=\"text-align: right;\">\n",
       "      <th>cp</th>\n",
       "      <th>1</th>\n",
       "      <th>2</th>\n",
       "      <th>3</th>\n",
       "      <th>4</th>\n",
       "    </tr>\n",
       "    <tr>\n",
       "      <th>age</th>\n",
       "      <th></th>\n",
       "      <th></th>\n",
       "      <th></th>\n",
       "      <th></th>\n",
       "    </tr>\n",
       "  </thead>\n",
       "  <tbody>\n",
       "    <tr>\n",
       "      <th>20-35</th>\n",
       "      <td>1</td>\n",
       "      <td>3</td>\n",
       "      <td>0</td>\n",
       "      <td>3</td>\n",
       "    </tr>\n",
       "    <tr>\n",
       "      <th>35-50</th>\n",
       "      <td>4</td>\n",
       "      <td>20</td>\n",
       "      <td>31</td>\n",
       "      <td>32</td>\n",
       "    </tr>\n",
       "    <tr>\n",
       "      <th>50-68</th>\n",
       "      <td>16</td>\n",
       "      <td>24</td>\n",
       "      <td>51</td>\n",
       "      <td>105</td>\n",
       "    </tr>\n",
       "    <tr>\n",
       "      <th>&gt;68</th>\n",
       "      <td>2</td>\n",
       "      <td>3</td>\n",
       "      <td>4</td>\n",
       "      <td>4</td>\n",
       "    </tr>\n",
       "  </tbody>\n",
       "</table>\n",
       "</div>"
      ],
      "text/plain": [
       "cp       1   2   3    4\n",
       "age                    \n",
       "20-35    1   3   0    3\n",
       "35-50    4  20  31   32\n",
       " 50-68  16  24  51  105\n",
       ">68      2   3   4    4"
      ]
     },
     "execution_count": 22,
     "metadata": {},
     "output_type": "execute_result"
    }
   ],
   "source": [
    "pd.crosstab(pd.cut(X.age, bins = [0,20,35,50,68,100],\n",
    "       labels=['<=20','20-35', '35-50', ' 50-68', '>68']), X.cp)"
   ]
  },
  {
   "cell_type": "code",
   "execution_count": 23,
   "id": "b2edb9f9-7637-4a08-8f6c-88bbb932209e",
   "metadata": {},
   "outputs": [
    {
     "data": {
      "text/plain": [
       "Chi2ContingencyResult(statistic=158.37773788889103, pvalue=0.01084871010565685, dof=120, expected_freq=array([[0.07590759, 0.1650165 , 0.28382838, 0.47524752],\n",
       "       [0.15181518, 0.330033  , 0.56765677, 0.95049505],\n",
       "       [0.30363036, 0.66006601, 1.13531353, 1.9009901 ],\n",
       "       [0.15181518, 0.330033  , 0.56765677, 0.95049505],\n",
       "       [0.15181518, 0.330033  , 0.56765677, 0.95049505],\n",
       "       [0.30363036, 0.66006601, 1.13531353, 1.9009901 ],\n",
       "       [0.22772277, 0.4950495 , 0.85148515, 1.42574257],\n",
       "       [0.75907591, 1.65016502, 2.83828383, 4.75247525],\n",
       "       [0.60726073, 1.32013201, 2.27062706, 3.8019802 ],\n",
       "       [0.60726073, 1.32013201, 2.27062706, 3.8019802 ],\n",
       "       [0.8349835 , 1.81518152, 3.12211221, 5.22772277],\n",
       "       [0.60726073, 1.32013201, 2.27062706, 3.8019802 ],\n",
       "       [0.53135314, 1.15511551, 1.98679868, 3.32673267],\n",
       "       [0.37953795, 0.82508251, 1.41914191, 2.37623762],\n",
       "       [0.53135314, 1.15511551, 1.98679868, 3.32673267],\n",
       "       [0.37953795, 0.82508251, 1.41914191, 2.37623762],\n",
       "       [0.53135314, 1.15511551, 1.98679868, 3.32673267],\n",
       "       [0.91089109, 1.98019802, 3.40594059, 5.7029703 ],\n",
       "       [0.98679868, 2.14521452, 3.68976898, 6.17821782],\n",
       "       [0.60726073, 1.32013201, 2.27062706, 3.8019802 ],\n",
       "       [1.21452145, 2.64026403, 4.54125413, 7.6039604 ],\n",
       "       [0.60726073, 1.32013201, 2.27062706, 3.8019802 ],\n",
       "       [0.8349835 , 1.81518152, 3.12211221, 5.22772277],\n",
       "       [1.29042904, 2.80528053, 4.82508251, 8.07920792],\n",
       "       [1.44224422, 3.13531353, 5.39273927, 9.02970297],\n",
       "       [1.06270627, 2.31023102, 3.97359736, 6.65346535],\n",
       "       [0.91089109, 1.98019802, 3.40594059, 5.7029703 ],\n",
       "       [0.60726073, 1.32013201, 2.27062706, 3.8019802 ],\n",
       "       [0.8349835 , 1.81518152, 3.12211221, 5.22772277],\n",
       "       [0.68316832, 1.48514851, 2.55445545, 4.27722772],\n",
       "       [0.75907591, 1.65016502, 2.83828383, 4.75247525],\n",
       "       [0.60726073, 1.32013201, 2.27062706, 3.8019802 ],\n",
       "       [0.53135314, 1.15511551, 1.98679868, 3.32673267],\n",
       "       [0.68316832, 1.48514851, 2.55445545, 4.27722772],\n",
       "       [0.30363036, 0.66006601, 1.13531353, 1.9009901 ],\n",
       "       [0.22772277, 0.4950495 , 0.85148515, 1.42574257],\n",
       "       [0.30363036, 0.66006601, 1.13531353, 1.9009901 ],\n",
       "       [0.22772277, 0.4950495 , 0.85148515, 1.42574257],\n",
       "       [0.07590759, 0.1650165 , 0.28382838, 0.47524752],\n",
       "       [0.07590759, 0.1650165 , 0.28382838, 0.47524752],\n",
       "       [0.07590759, 0.1650165 , 0.28382838, 0.47524752]]))"
      ]
     },
     "execution_count": 23,
     "metadata": {},
     "output_type": "execute_result"
    }
   ],
   "source": [
    "st.chi2_contingency(pd.crosstab(X.age, X.cp))"
   ]
  },
  {
   "cell_type": "code",
   "execution_count": 37,
   "id": "434be43c-c7ed-4b32-b765-432d22f9fb03",
   "metadata": {},
   "outputs": [
    {
     "name": "stdout",
     "output_type": "stream",
     "text": [
      "[[ 0  1  0  0]\n",
      " [ 1  1  0  0]\n",
      " [ 0  1  0  3]\n",
      " [ 0  0  2  0]\n",
      " [ 1  0  1  0]\n",
      " [ 0  0  3  1]\n",
      " [ 1  0  0  2]\n",
      " [ 0  6  3  1]\n",
      " [ 1  1  3  3]\n",
      " [ 0  0  2  6]\n",
      " [ 0  3  5  3]\n",
      " [ 1  3  0  4]\n",
      " [ 0  2  2  3]\n",
      " [ 0  0  3  2]\n",
      " [ 0  2  2  3]\n",
      " [ 0  2  2  1]\n",
      " [ 0  1  3  3]\n",
      " [ 1  0  7  4]\n",
      " [ 2  3  3  5]\n",
      " [ 0  0  3  5]\n",
      " [ 0  3  7  6]\n",
      " [ 0  3  0  5]\n",
      " [ 1  4  1  5]\n",
      " [ 0  3  3 11]\n",
      " [ 1  3  5 10]\n",
      " [ 4  1  2  7]\n",
      " [ 1  0  3  8]\n",
      " [ 1  0  1  6]\n",
      " [ 0  2  2  7]\n",
      " [ 1  1  1  6]\n",
      " [ 2  0  3  5]\n",
      " [ 1  0  3  4]\n",
      " [ 1  1  1  4]\n",
      " [ 0  0  3  6]\n",
      " [ 0  0  3  1]\n",
      " [ 2  0  1  0]\n",
      " [ 0  1  1  2]\n",
      " [ 0  1  1  1]\n",
      " [ 0  1  0  0]\n",
      " [ 0  0  1  0]\n",
      " [ 0  0  0  1]]\n"
     ]
    }
   ],
   "source": [
    "fact_freqency_age = pd.crosstab(X.age, X.cp).values\n",
    "print(fact_freqency_age)"
   ]
  },
  {
   "cell_type": "code",
   "execution_count": 41,
   "id": "c3f75932-3dcb-4e3f-b5a9-e167cf3c9f56",
   "metadata": {},
   "outputs": [],
   "source": [
    "expected_freqency_1 = (fact_freqency_age.sum(axis = 0).reshape(-1,1).\\\n",
    "dot(fact_freqency_age.sum(axis = 1).reshape(1,-1))/fact_freqency_age.sum()).T\n"
   ]
  },
  {
   "cell_type": "code",
   "execution_count": 42,
   "id": "bea25da6-f037-42b0-a9b9-91430d786943",
   "metadata": {},
   "outputs": [
    {
     "data": {
      "text/plain": [
       "array([[0.07590759, 0.1650165 , 0.28382838, 0.47524752],\n",
       "       [0.15181518, 0.330033  , 0.56765677, 0.95049505],\n",
       "       [0.30363036, 0.66006601, 1.13531353, 1.9009901 ],\n",
       "       [0.15181518, 0.330033  , 0.56765677, 0.95049505],\n",
       "       [0.15181518, 0.330033  , 0.56765677, 0.95049505],\n",
       "       [0.30363036, 0.66006601, 1.13531353, 1.9009901 ],\n",
       "       [0.22772277, 0.4950495 , 0.85148515, 1.42574257],\n",
       "       [0.75907591, 1.65016502, 2.83828383, 4.75247525],\n",
       "       [0.60726073, 1.32013201, 2.27062706, 3.8019802 ],\n",
       "       [0.60726073, 1.32013201, 2.27062706, 3.8019802 ],\n",
       "       [0.8349835 , 1.81518152, 3.12211221, 5.22772277],\n",
       "       [0.60726073, 1.32013201, 2.27062706, 3.8019802 ],\n",
       "       [0.53135314, 1.15511551, 1.98679868, 3.32673267],\n",
       "       [0.37953795, 0.82508251, 1.41914191, 2.37623762],\n",
       "       [0.53135314, 1.15511551, 1.98679868, 3.32673267],\n",
       "       [0.37953795, 0.82508251, 1.41914191, 2.37623762],\n",
       "       [0.53135314, 1.15511551, 1.98679868, 3.32673267],\n",
       "       [0.91089109, 1.98019802, 3.40594059, 5.7029703 ],\n",
       "       [0.98679868, 2.14521452, 3.68976898, 6.17821782],\n",
       "       [0.60726073, 1.32013201, 2.27062706, 3.8019802 ],\n",
       "       [1.21452145, 2.64026403, 4.54125413, 7.6039604 ],\n",
       "       [0.60726073, 1.32013201, 2.27062706, 3.8019802 ],\n",
       "       [0.8349835 , 1.81518152, 3.12211221, 5.22772277],\n",
       "       [1.29042904, 2.80528053, 4.82508251, 8.07920792],\n",
       "       [1.44224422, 3.13531353, 5.39273927, 9.02970297],\n",
       "       [1.06270627, 2.31023102, 3.97359736, 6.65346535],\n",
       "       [0.91089109, 1.98019802, 3.40594059, 5.7029703 ],\n",
       "       [0.60726073, 1.32013201, 2.27062706, 3.8019802 ],\n",
       "       [0.8349835 , 1.81518152, 3.12211221, 5.22772277],\n",
       "       [0.68316832, 1.48514851, 2.55445545, 4.27722772],\n",
       "       [0.75907591, 1.65016502, 2.83828383, 4.75247525],\n",
       "       [0.60726073, 1.32013201, 2.27062706, 3.8019802 ],\n",
       "       [0.53135314, 1.15511551, 1.98679868, 3.32673267],\n",
       "       [0.68316832, 1.48514851, 2.55445545, 4.27722772],\n",
       "       [0.30363036, 0.66006601, 1.13531353, 1.9009901 ],\n",
       "       [0.22772277, 0.4950495 , 0.85148515, 1.42574257],\n",
       "       [0.30363036, 0.66006601, 1.13531353, 1.9009901 ],\n",
       "       [0.22772277, 0.4950495 , 0.85148515, 1.42574257],\n",
       "       [0.07590759, 0.1650165 , 0.28382838, 0.47524752],\n",
       "       [0.07590759, 0.1650165 , 0.28382838, 0.47524752],\n",
       "       [0.07590759, 0.1650165 , 0.28382838, 0.47524752]])"
      ]
     },
     "execution_count": 42,
     "metadata": {},
     "output_type": "execute_result"
    }
   ],
   "source": [
    "expected_freqency_1"
   ]
  },
  {
   "cell_type": "code",
   "execution_count": 43,
   "id": "b7fc97ec-9b42-4119-887b-fb25d252803e",
   "metadata": {},
   "outputs": [],
   "source": [
    "fact_freqency_rest = pd.crosstab(X.restecg, X.cp).values\n"
   ]
  },
  {
   "cell_type": "code",
   "execution_count": 44,
   "id": "4a75f171-7332-442b-abd7-59deea832c42",
   "metadata": {},
   "outputs": [],
   "source": [
    "expected_freqency_2 = (fact_freqency_rest.sum(axis = 0).reshape(-1,1).\\\n",
    "dot(fact_freqency_rest.sum(axis = 1).reshape(1,-1))/fact_freqency_rest.sum()).T\n"
   ]
  },
  {
   "cell_type": "code",
   "execution_count": 46,
   "id": "78b0438f-ccb4-468b-978a-c669e8ad37a7",
   "metadata": {},
   "outputs": [
    {
     "data": {
      "text/plain": [
       "array([[11.4620462 , 24.91749175, 42.85808581, 71.76237624],\n",
       "       [ 0.30363036,  0.66006601,  1.13531353,  1.9009901 ],\n",
       "       [11.23432343, 24.42244224, 42.00660066, 70.33663366]])"
      ]
     },
     "execution_count": 46,
     "metadata": {},
     "output_type": "execute_result"
    }
   ],
   "source": [
    "expected_freqency_2"
   ]
  },
  {
   "cell_type": "code",
   "execution_count": 47,
   "id": "a402c8f6-047c-4f91-b3e9-8c6cc51e9ea3",
   "metadata": {},
   "outputs": [
    {
     "data": {
      "text/plain": [
       "Chi2ContingencyResult(statistic=9.647796460984317, pvalue=0.140289244934876, dof=6, expected_freq=array([[11.4620462 , 24.91749175, 42.85808581, 71.76237624],\n",
       "       [ 0.30363036,  0.66006601,  1.13531353,  1.9009901 ],\n",
       "       [11.23432343, 24.42244224, 42.00660066, 70.33663366]]))"
      ]
     },
     "execution_count": 47,
     "metadata": {},
     "output_type": "execute_result"
    }
   ],
   "source": [
    "st.chi2_contingency(pd.crosstab(X.restecg, X.cp))"
   ]
  },
  {
   "cell_type": "code",
   "execution_count": 48,
   "id": "16dd3f84-3873-400c-ad50-f766640a4250",
   "metadata": {},
   "outputs": [
    {
     "data": {
      "text/plain": [
       "0      1\n",
       "1      1\n",
       "2      1\n",
       "3      0\n",
       "4      1\n",
       "      ..\n",
       "298    0\n",
       "299    0\n",
       "300    0\n",
       "301    1\n",
       "302    0\n",
       "Name: restecg, Length: 303, dtype: category\n",
       "Categories (2, int64): [0 < 1]"
      ]
     },
     "execution_count": 48,
     "metadata": {},
     "output_type": "execute_result"
    }
   ],
   "source": [
    "pd.cut(X.restecg, bins= [0,0.5,2.5],right=False, labels=[0,1])"
   ]
  },
  {
   "cell_type": "code",
   "execution_count": 49,
   "id": "72a55350-beac-49ed-9b4a-50044d2e436f",
   "metadata": {},
   "outputs": [
    {
     "data": {
      "text/html": [
       "<div>\n",
       "<style scoped>\n",
       "    .dataframe tbody tr th:only-of-type {\n",
       "        vertical-align: middle;\n",
       "    }\n",
       "\n",
       "    .dataframe tbody tr th {\n",
       "        vertical-align: top;\n",
       "    }\n",
       "\n",
       "    .dataframe thead th {\n",
       "        text-align: right;\n",
       "    }\n",
       "</style>\n",
       "<table border=\"1\" class=\"dataframe\">\n",
       "  <thead>\n",
       "    <tr style=\"text-align: right;\">\n",
       "      <th>fbs</th>\n",
       "      <th>0</th>\n",
       "      <th>1</th>\n",
       "    </tr>\n",
       "    <tr>\n",
       "      <th>restecg</th>\n",
       "      <th></th>\n",
       "      <th></th>\n",
       "    </tr>\n",
       "  </thead>\n",
       "  <tbody>\n",
       "    <tr>\n",
       "      <th>0</th>\n",
       "      <td>132</td>\n",
       "      <td>19</td>\n",
       "    </tr>\n",
       "    <tr>\n",
       "      <th>1</th>\n",
       "      <td>126</td>\n",
       "      <td>26</td>\n",
       "    </tr>\n",
       "  </tbody>\n",
       "</table>\n",
       "</div>"
      ],
      "text/plain": [
       "fbs        0   1\n",
       "restecg         \n",
       "0        132  19\n",
       "1        126  26"
      ]
     },
     "execution_count": 49,
     "metadata": {},
     "output_type": "execute_result"
    }
   ],
   "source": [
    "pd.crosstab(X.restecg.replace({2:1}), X.fbs)"
   ]
  },
  {
   "cell_type": "code",
   "execution_count": 50,
   "id": "d69b45cf-e357-4987-b189-8fd69a331ca1",
   "metadata": {},
   "outputs": [],
   "source": [
    "expected_freqency_3 = pd.crosstab(X.restecg.replace({2:1}), X.fbs).values\n"
   ]
  },
  {
   "cell_type": "code",
   "execution_count": 51,
   "id": "1b975300-ec62-4fb1-9cba-14a6c7049b57",
   "metadata": {},
   "outputs": [
    {
     "data": {
      "text/plain": [
       "array([[132,  19],\n",
       "       [126,  26]], dtype=int64)"
      ]
     },
     "execution_count": 51,
     "metadata": {},
     "output_type": "execute_result"
    }
   ],
   "source": [
    "expected_freqency_3"
   ]
  },
  {
   "cell_type": "code",
   "execution_count": 53,
   "id": "bf2c46ef-c6d2-42aa-ad00-ca0c70536a9c",
   "metadata": {},
   "outputs": [
    {
     "data": {
      "text/plain": [
       "Chi2ContingencyResult(statistic=1.2251367869851737, pvalue=0.2683549061852335, dof=1, expected_freq=array([[128.57425743,  22.42574257],\n",
       "       [129.42574257,  22.57425743]]))"
      ]
     },
     "execution_count": 53,
     "metadata": {},
     "output_type": "execute_result"
    }
   ],
   "source": [
    "st.chi2_contingency(expected_freqency_3, correction = False)"
   ]
  },
  {
   "cell_type": "code",
   "execution_count": null,
   "id": "54a6eeee-61f2-4208-a55e-7f89738a8c6d",
   "metadata": {},
   "outputs": [],
   "source": []
  },
  {
   "cell_type": "code",
   "execution_count": null,
   "id": "f09dff0f-e279-4fdd-bb12-d57b35caeb93",
   "metadata": {},
   "outputs": [],
   "source": []
  },
  {
   "cell_type": "code",
   "execution_count": null,
   "id": "073e1087-62b9-4700-9839-f953899eba4e",
   "metadata": {},
   "outputs": [],
   "source": []
  },
  {
   "cell_type": "code",
   "execution_count": null,
   "id": "16525f7c-b39a-4778-98df-351be13527e6",
   "metadata": {},
   "outputs": [],
   "source": []
  }
 ],
 "metadata": {
  "kernelspec": {
   "display_name": "Python 3 (ipykernel)",
   "language": "python",
   "name": "python3"
  },
  "language_info": {
   "codemirror_mode": {
    "name": "ipython",
    "version": 3
   },
   "file_extension": ".py",
   "mimetype": "text/x-python",
   "name": "python",
   "nbconvert_exporter": "python",
   "pygments_lexer": "ipython3",
   "version": "3.9.4"
  }
 },
 "nbformat": 4,
 "nbformat_minor": 5
}
